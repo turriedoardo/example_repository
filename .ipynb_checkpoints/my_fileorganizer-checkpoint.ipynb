{
 "cells": [
  {
   "cell_type": "markdown",
   "metadata": {},
   "source": [
    "# STEP 1"
   ]
  },
  {
   "cell_type": "code",
   "execution_count": 1,
   "metadata": {},
   "outputs": [],
   "source": [
    "# importo le librerie\n",
    "\n",
    "import shutil\n",
    "import os\n",
    "import csv\n",
    "import pandas as pd\n",
    "import numpy as np\n",
    "from tabulate import tabulate\n",
    "from PIL import Image"
   ]
  },
  {
   "cell_type": "code",
   "execution_count": 2,
   "metadata": {},
   "outputs": [
    {
     "name": "stdout",
     "output_type": "stream",
     "text": [
      "C:\\Users\\Edoardo\\machine learning\\progetti start2impact\\file organizer\n"
     ]
    },
    {
     "data": {
      "text/plain": [
       "'\\na che serve questa cella?\\n\\nper essere il più generico possibile, puoi:\\n- trovare il percorso della cartella corrente (os.getcwd)\\n- da lì, riferirti a (o spostarti in: os.path.chdir) quella di lavoro, files/\\n'"
      ]
     },
     "execution_count": 2,
     "metadata": {},
     "output_type": "execute_result"
    }
   ],
   "source": [
    "print(os.getcwd())\n",
    "\"\"\"\n",
    "a che serve questa cella?\n",
    "\n",
    "per essere il più generico possibile, puoi:\n",
    "- trovare il percorso della cartella corrente (os.getcwd)\n",
    "- da lì, riferirti a (o spostarti in: os.path.chdir) quella di lavoro, files/\n",
    "\"\"\""
   ]
  },
  {
   "cell_type": "code",
   "execution_count": 3,
   "metadata": {},
   "outputs": [],
   "source": [
    "os.chdir('files') # sposto la directory di lavoro in files\n",
    "    \n",
    "\"\"\"\n",
    "attenzione alla gestione del file di recap:\n",
    "\n",
    "il tuo codice lo riscrive (da capo, con l'header) ogni volta che viene lanciato lo script;\n",
    "dovresti pensare a una logica che\n",
    "- se il file di recap NON ESISTE, viene creato (con l'header, che è sempre la prima riga)\n",
    "e viene riempito con le info dei file spostati\n",
    "- se ESISTE, viene solo riempito (AGGIORNANDO la versione già esistente)\n",
    "\n",
    "pensa inoltre a quali di queste operazioni conviene mettere nel ciclo principale (e quindi\n",
    "eseguire ogni volta che viene spostato un file) e cosa puoi esternalizzare (e\n",
    "quindi eseguire una volta sola)\n",
    "per evitare (*) di aprire e chiudere il file di recap ad ogni iterazione del ciclo sui file\n",
    "da spostare, come hai fatto qui sotto, puoi:\n",
    "- aprirlo prima e chiuderlo alla fine\n",
    "- mettere tutto il ciclo principale nel corpo di un \"with\"\n",
    "\n",
    "\"\"\"\n",
    "    \n",
    "files_list = [] # creo una lista in cui inserire le informazioni dei file\n",
    "img_formats = ['png', 'jpg', 'jpeg'] # creo lista per formato immagini\n",
    "txt_formats = ['txt', 'odt'] # creo lista per formato testi\n",
    "\n",
    "if not os.path.isdir('images'): # se non è presente, creo la cartella 'images'\n",
    "    os.mkdir('images')\n",
    "\n",
    "if not os.path.isdir('audio'): # se non è presente, creo cartella per file audio\n",
    "    os.mkdir('audio')\n",
    "    \n",
    "if not os.path.isdir('doc'): # se non è presente, creo cartella per file testuali\n",
    "    os.mkdir('doc')\n",
    "\n",
    "\n",
    "if not os.path.isfile('recap.csv'): # se il recap non è presente, lo creo\n",
    "    \n",
    "    recap = open('recap.csv', mode = 'w')\n",
    "    writer = csv.writer(recap)\n",
    "    writer.writerow(['filename', 'type', 'size'])\n",
    "    \n",
    "else: # se il recap è già presente lo aggiorno\n",
    "    \n",
    "    recap = open('recap.csv', mode = 'a') \n",
    "    writer = csv.writer(recap)\n",
    "    \n",
    "for file in os.listdir(os.curdir): # itero sugli elementi della cartella files\n",
    "\n",
    "    if os.path.isfile(file): # seleziono solo i file\n",
    "\n",
    "        filepath = os.path.abspath(file) # assegno a filepath il percorso del file\n",
    "        size = os.path.getsize(filepath) # assegno a size la dimensione\n",
    "        filename, ext = file.split('.') # assegno a filename il nome e a ext il formato del file\n",
    "\n",
    "        \"\"\"\n",
    "        oltre a inserire queste info nel recap, dovresti stamparle a video\n",
    "        durante l'esecuzione dello script\n",
    "        \"\"\"\n",
    "\n",
    "        if ext == 'csv': # se il file è .csv (recap) riparto dall'inizio del ciclo \n",
    "            continue\n",
    "\n",
    "        elif ext in img_formats: # seleziono le immagini\n",
    "\n",
    "            shutil.move(filepath, 'images') # sposto l'immagine in images\n",
    "            file_type = 'image' # assegno a file_type il tipo del file\n",
    "\n",
    "        # ripeto il processo con i file audio e testuali\n",
    "\n",
    "        elif ext == 'mp3':\n",
    "            shutil.move(filepath, 'audio')\n",
    "            file_type = 'audio'\n",
    "\n",
    "        elif ext in txt_formats:\n",
    "\n",
    "            shutil.move(filepath, 'doc')\n",
    "            file_type = 'doc'\n",
    "            \n",
    "        # segnalo file non supportati\n",
    "\n",
    "        else:\n",
    "            print(f'I file di tipo {ext} non sono supportati!')\n",
    "\n",
    "        files_list.append(f'{filename}  size: {size}B  type: {file_type}') # inserisco le info del file in files_list\n",
    "\n",
    "        data = pd.read_csv('recap.csv')\n",
    "        \n",
    "        filenames = data.filename.tolist()\n",
    "        \n",
    "        # se è già presente nel recap un file con lo stesso nome, lo aggiungo solo se dimensione e formato sono diversi\n",
    "\n",
    "        if filename in filenames:\n",
    "            \n",
    "            if file_type != data.type[filenames.index(filename)] and f'{size}B' != data['size'][filenames.index(filename)]:\n",
    "                    \n",
    "                    writer.writerow([filename, file_type, f'{size}B'])\n",
    "            \n",
    "            else:\n",
    "                \n",
    "                pass\n",
    "                    \n",
    "        else: # se non è presente un file con quel nome, lo aggiungo al recap\n",
    "            \n",
    "            writer.writerow([filename, file_type, f'{size}B'])\n",
    "            \n",
    "recap.close() # chiudo il file di recap\n",
    "\n",
    "p = [print(file) for file in sorted(files_list)] # stampo la lista dei file in ordine alfabetico\n",
    "\n",
    "os.chdir('..') # ripristino la directory originale"
   ]
  },
  {
   "cell_type": "code",
   "execution_count": 11,
   "metadata": {},
   "outputs": [
    {
     "data": {
      "text/plain": [
       "[]"
      ]
     },
     "execution_count": 11,
     "metadata": {},
     "output_type": "execute_result"
    }
   ],
   "source": [
    "nd = pd.read_csv('.//files//recap.csv') # controllo il contenuto di recap\n",
    "nd.filename.tolist()"
   ]
  },
  {
   "cell_type": "code",
   "execution_count": null,
   "metadata": {},
   "outputs": [],
   "source": []
  },
  {
   "cell_type": "code",
   "execution_count": null,
   "metadata": {},
   "outputs": [],
   "source": [
    "\"\"\"\n",
    "step 2\n",
    "\n",
    "bene\n",
    "- l'utilizzo di argparse\n",
    "- l'adattamento dello step 1 al caso \"singolo file\"\n",
    "- l'interazione con l'utente\n",
    "\n",
    "(vale tutto quello che ti ho detto per lo step 1)\n",
    "\n",
    "una funzione \"main\" (che contiene il corpo chiamante del codice)\n",
    "non è sbagliata, ma neanche necessaria;\n",
    "volendo, puoi lasciare \"procedurale\" questa parte del codice, cioè fuori\n",
    "dal corpo di una funzione\n",
    "\n",
    "hai capito a che serve il costrutto if __name__ == '__main__'?\n",
    "\n",
    "https://www.programmareinpython.it/video-corso-python-intermedio/03-if-name-main/\n",
    "https://www.freecodecamp.org/news/if-name-main-python-example/\n",
    "\"\"\""
   ]
  },
  {
   "cell_type": "markdown",
   "metadata": {},
   "source": [
    "---"
   ]
  },
  {
   "cell_type": "markdown",
   "metadata": {},
   "source": [
    "# STEP 3"
   ]
  },
  {
   "cell_type": "code",
   "execution_count": 115,
   "metadata": {},
   "outputs": [
    {
     "name": "stdout",
     "output_type": "stream",
     "text": [
      "╒═════════════════╤══════════╤═════════╤═════════════╤════════╤════════╤════════╤═════════╕\n",
      "│ name            │   height │   width │   grayscale │      R │      G │      B │   ALPHA │\n",
      "╞═════════════════╪══════════╪═════════╪═════════════╪════════╪════════╪════════╪═════════╡\n",
      "│ bw              │      512 │     512 │       21.48 │   0.00 │   0.00 │   0.00 │    0.00 │\n",
      "├─────────────────┼──────────┼─────────┼─────────────┼────────┼────────┼────────┼─────────┤\n",
      "│ ciabatta        │     1500 │    1329 │        0.00 │ 165.51 │ 165.95 │ 163.52 │    0.00 │\n",
      "├─────────────────┼──────────┼─────────┼─────────────┼────────┼────────┼────────┼─────────┤\n",
      "│ daffodil        │      500 │     335 │        0.00 │ 109.25 │  85.56 │   4.97 │    0.00 │\n",
      "├─────────────────┼──────────┼─────────┼─────────────┼────────┼────────┼────────┼─────────┤\n",
      "│ eclipse         │      256 │     256 │        0.00 │ 109.05 │ 109.52 │  39.85 │  133.59 │\n",
      "├─────────────────┼──────────┼─────────┼─────────────┼────────┼────────┼────────┼─────────┤\n",
      "│ karamazov       │      406 │     900 │        0.00 │ 191.41 │ 191.41 │ 191.41 │    0.00 │\n",
      "├─────────────────┼──────────┼─────────┼─────────────┼────────┼────────┼────────┼─────────┤\n",
      "│ ronaldo_marcelo │      360 │     480 │        0.00 │ 155.20 │ 140.70 │ 125.38 │    0.00 │\n",
      "├─────────────────┼──────────┼─────────┼─────────────┼────────┼────────┼────────┼─────────┤\n",
      "│ trump           │      183 │     275 │        0.00 │  97.01 │  98.99 │  90.92 │    0.00 │\n",
      "╘═════════════════╧══════════╧═════════╧═════════════╧════════╧════════╧════════╧═════════╛\n"
     ]
    }
   ],
   "source": [
    "os.chdir('files') # sposto la directory per essere più agevolato\n",
    "\n",
    "table = []\n",
    "\n",
    "for image in os.listdir('images'): # itero sulle immagini nella cartella\n",
    "    \n",
    "    img = Image.open(os.path.join('images', image)) # apro l'immagine\n",
    "    np_img = np.array(img) # creo un array a partire dall'immagine\n",
    "    \n",
    "    if np_img.ndim == 2: # se l'array ha solo due dimensioni, l'immagine è in scala grigi\n",
    "        #creo una lista con le caratteristiche delle immagini\n",
    "        row = [image.split('.')[0], np_img.shape[0], np_img.shape[1], np_img.mean(), 0., 0., 0., 0.]\n",
    "        \"\"\"\n",
    "        puoi scrivere 0. oppure .0 oppure 0.0 invece che float(0)\n",
    "        \"\"\"\n",
    "        table.append(row) #inserisco la lista nella lista 'table'\n",
    "        #ripeto il processo per le immagini RGB e RGBA\n",
    "\n",
    "    elif np_img.shape[2] == 3: # se la profondità della terza dimensione è 3, l'immagine è RGB\n",
    "        row = [image.split('.')[0], np_img.shape[0], np_img.shape[1], float(0), np_img[:,:,0].mean(), np_img[:,:,1].mean(), np_img[:,:,2].mean(), float(0)]\n",
    "        table.append(row)        \n",
    "    \"\"\"\n",
    "    non c'è bisogno di calcolare la media per ogni livello di colore; puoi usare (come?)\n",
    "    l'argomento \"axis\" della funzione mean (che esiste per ogni funzione vettoriale\n",
    "    di NumPy)\n",
    "    \"\"\"\n",
    "        \n",
    "    elif np_img.shape[2] == 4: # se la profondità della terza dimenzione è 4, l'immagine è in formato RGBA\n",
    "        row = [image.split('.')[0], np_img.shape[0], np_img.shape[1], float(0), np_img[:,:,0].mean(), np_img[:,:,1].mean(), np_img[:,:,2].mean(), np_img[:,:,3].mean()]\n",
    "        table.append(row)\n",
    "        \n",
    "    \"\"\"\n",
    "    ...else? se non ci sono altri casi possibili, puoi chiudere con un else; se invece ci sono,\n",
    "    meglio gestirli: chiediti sempre che succede se non vengono eseguiti né il corpo dell'if\n",
    "    né quello degli elif; il codice che c'è dopo gira lo stesso?\n",
    "    \"\"\"\n",
    "    \n",
    "new_table = tabulate(table, headers = ['name', 'height', 'width', 'grayscale', 'R', 'G', 'B', 'ALPHA'], tablefmt = 'fancy_grid', numalign = 'right', floatfmt = '.2f') # creo la tabella utilizzando le caratteristiche dell'immagine come titoli\n",
    "\n",
    "print(new_table) \n",
    "\n",
    "os.chdir('..') # ripristino la directory precendente"
   ]
  }
 ],
 "metadata": {
  "kernelspec": {
   "display_name": "Python 3",
   "language": "python",
   "name": "python3"
  },
  "language_info": {
   "codemirror_mode": {
    "name": "ipython",
    "version": 3
   },
   "file_extension": ".py",
   "mimetype": "text/x-python",
   "name": "python",
   "nbconvert_exporter": "python",
   "pygments_lexer": "ipython3",
   "version": "3.8.8"
  }
 },
 "nbformat": 4,
 "nbformat_minor": 4
}
