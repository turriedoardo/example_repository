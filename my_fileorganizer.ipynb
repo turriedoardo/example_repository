{
 "cells": [
  {
   "cell_type": "markdown",
   "metadata": {},
   "source": [
    "# STEP 1"
   ]
  },
  {
   "cell_type": "code",
   "execution_count": 1,
   "metadata": {},
   "outputs": [],
   "source": [
    "# importo le librerie\n",
    "import shutil\n",
    "import os\n",
    "import csv\n",
    "import pandas as pd\n",
    "import numpy as np\n",
    "from tabulate import tabulate\n",
    "from PIL import Image"
   ]
  },
  {
   "cell_type": "code",
   "execution_count": 2,
   "metadata": {},
   "outputs": [
    {
     "name": "stdout",
     "output_type": "stream",
     "text": [
      "c:\\Users\\Edoardo\\Documents\\start2impact\\Python e Numpy\\file organizer\n"
     ]
    }
   ],
   "source": [
    "# controllo la directory corrente\n",
    "print(os.getcwd())"
   ]
  },
  {
   "cell_type": "code",
   "execution_count": 4,
   "metadata": {},
   "outputs": [
    {
     "name": "stdout",
     "output_type": "stream",
     "text": [
      "bw  size: 94926B  type: image\n",
      "ciao  size: 12B  type: doc\n",
      "daffodil  size: 24657B  type: image\n",
      "eclipse  size: 64243B  type: image\n",
      "pippo  size: 8299B  type: doc\n",
      "song1  size: 1087849B  type: audio\n",
      "song2  size: 764176B  type: audio\n",
      "trump  size: 10195B  type: image\n"
     ]
    }
   ],
   "source": [
    "os.chdir('files') # sposto la directory di lavoro in files\n",
    "    \n",
    "files_list = [] # creo una lista in cui inserire le informazioni dei file\n",
    "img_formats = ['png', 'jpg', 'jpeg'] # creo lista per formato immagini\n",
    "txt_formats = ['txt', 'odt'] # creo lista per formato testi\n",
    "\n",
    "if not os.path.isdir('images'): # se non è presente, creo la cartella 'images'\n",
    "    os.mkdir('images')\n",
    "\n",
    "if not os.path.isdir('audio'): # se non è presente, creo cartella per file audio\n",
    "    os.mkdir('audio')\n",
    "    \n",
    "if not os.path.isdir('doc'): # se non è presente, creo cartella per file testuali\n",
    "    os.mkdir('doc')\n",
    "\n",
    "\n",
    "if not os.path.isfile('recap.csv'): # se il recap non è presente, lo creo\n",
    "    \n",
    "    recap = open('recap.csv', mode = 'w')\n",
    "    writer = csv.writer(recap)\n",
    "    writer.writerow(['filename', 'type', 'size'])\n",
    "    \n",
    "else: # se il recap è già presente lo aggiorno\n",
    "    \n",
    "    recap = open('recap.csv', mode = 'a') \n",
    "    writer = csv.writer(recap)\n",
    "    \n",
    "for file in os.listdir(os.curdir): # itero sugli elementi della cartella files\n",
    "\n",
    "    if os.path.isfile(file): # seleziono solo i file\n",
    "\n",
    "        filepath = os.path.abspath(file) # assegno a filepath il percorso del file\n",
    "        size = os.path.getsize(filepath) # assegno a size la dimensione\n",
    "        filename, ext = file.split('.') # assegno a filename il nome e a ext il formato del file\n",
    "\n",
    "        if ext == 'csv': # se il file è .csv (recap) riparto dall'inizio del ciclo \n",
    "            continue\n",
    "\n",
    "        elif ext in img_formats: # seleziono le immagini\n",
    "\n",
    "            shutil.move(filepath, 'images') # sposto l'immagine in images\n",
    "            file_type = 'image' # assegno a file_type il tipo del file\n",
    "\n",
    "        # ripeto il processo con i file audio e testuali\n",
    "\n",
    "        elif ext == 'mp3':\n",
    "            shutil.move(filepath, 'audio')\n",
    "            file_type = 'audio'\n",
    "\n",
    "        elif ext in txt_formats:\n",
    "\n",
    "            shutil.move(filepath, 'doc')\n",
    "            file_type = 'doc'\n",
    "            \n",
    "        # segnalo file non supportati\n",
    "\n",
    "        else:\n",
    "            print(f'I file di tipo {ext} non sono supportati!')\n",
    "\n",
    "        files_list.append(f'{filename}  size: {size}B  type: {file_type}') # inserisco le info del file in files_list\n",
    "\n",
    "        data = pd.read_csv('recap.csv') # apro file di recap\n",
    "        \n",
    "        filenames = data.filename.tolist() # creo una lista coi nomi dei files già presenti nel recap\n",
    "        \n",
    "        # se è già presente nel recap un file con lo stesso nome, lo aggiungo solo se dimensione e formato sono diversi\n",
    "\n",
    "        if filename in filenames:\n",
    "            \n",
    "            if file_type != data.type[filenames.index(filename)] and f'{size}B' != data['size'][filenames.index(filename)]:\n",
    "                    \n",
    "                    writer.writerow([filename, file_type, f'{size}B'])\n",
    "            \n",
    "            else:\n",
    "                \n",
    "                pass\n",
    "                    \n",
    "        else: # se non è presente un file con quel nome, lo aggiungo al recap\n",
    "            \n",
    "            writer.writerow([filename, file_type, f'{size}B'])\n",
    "            \n",
    "recap.close() # chiudo il file di recap\n",
    "\n",
    "p = [print(file) for file in sorted(files_list)] # stampo la lista dei file in ordine alfabetico\n",
    "\n",
    "os.chdir('..') # ripristino la directory originale"
   ]
  },
  {
   "cell_type": "code",
   "execution_count": 5,
   "metadata": {},
   "outputs": [
    {
     "name": "stdout",
     "output_type": "stream",
     "text": [
      "   filename   type      size\n",
      "0     song1  audio  1087849B\n",
      "1        bw  image    94926B\n",
      "2      ciao    doc       12B\n",
      "3  daffodil  image    24657B\n",
      "4   eclipse  image    64243B\n",
      "5     pippo    doc     8299B\n",
      "6     song2  audio   764176B\n",
      "7     trump  image    10195B\n"
     ]
    }
   ],
   "source": [
    "nd = pd.read_csv('.//files//recap.csv') # controllo il contenuto di recap\n",
    "print(nd)"
   ]
  },
  {
   "cell_type": "markdown",
   "metadata": {},
   "source": [
    "---"
   ]
  },
  {
   "cell_type": "markdown",
   "metadata": {},
   "source": [
    "# STEP 3"
   ]
  },
  {
   "cell_type": "code",
   "execution_count": 6,
   "metadata": {},
   "outputs": [
    {
     "name": "stdout",
     "output_type": "stream",
     "text": [
      "╒══════════╤══════════╤═════════╤═════════════╤════════╤════════╤═══════╤═════════╕\n",
      "│ name     │   height │   width │   grayscale │      R │      G │     B │   ALPHA │\n",
      "╞══════════╪══════════╪═════════╪═════════════╪════════╪════════╪═══════╪═════════╡\n",
      "│ bw       │      512 │     512 │       21.48 │   0.00 │   0.00 │  0.00 │    0.00 │\n",
      "├──────────┼──────────┼─────────┼─────────────┼────────┼────────┼───────┼─────────┤\n",
      "│ daffodil │      500 │     335 │        0.00 │ 109.23 │  85.52 │  4.77 │    0.00 │\n",
      "├──────────┼──────────┼─────────┼─────────────┼────────┼────────┼───────┼─────────┤\n",
      "│ eclipse  │      256 │     256 │        0.00 │ 109.05 │ 109.52 │ 39.85 │  133.59 │\n",
      "├──────────┼──────────┼─────────┼─────────────┼────────┼────────┼───────┼─────────┤\n",
      "│ trump    │      183 │     275 │        0.00 │  97.01 │  98.99 │ 90.92 │    0.00 │\n",
      "╘══════════╧══════════╧═════════╧═════════════╧════════╧════════╧═══════╧═════════╛\n"
     ]
    }
   ],
   "source": [
    "os.chdir('files') # sposto la directory per essere più agevolato\n",
    "\n",
    "table = []\n",
    "\n",
    "for image in os.listdir('images'): # itero sulle immagini nella cartella\n",
    "    \n",
    "    img = Image.open(os.path.join('images', image)) # apro l'immagine\n",
    "    np_img = np.array(img) # creo un array a partire dall'immagine\n",
    "    \n",
    "    if np_img.ndim == 2: # se l'array ha solo due dimensioni, l'immagine è in scala grigi\n",
    "        #creo una lista con le caratteristiche delle immagini\n",
    "        row = [image.split('.')[0], np_img.shape[0], np_img.shape[1], np_img.mean(), 0., 0., 0., 0.]\n",
    "        table.append(row) #inserisco la lista nella lista 'table'\n",
    "        #ripeto il processo per le immagini RGB e RGBA\n",
    "\n",
    "    elif np_img.shape[2] == 3: # se la profondità della terza dimensione è 3, l'immagine è RGB\n",
    "        red, green, blue = np_img.mean(axis = (0, 1))\n",
    "        row = [image.split('.')[0], np_img.shape[0], np_img.shape[1], 0., red, green, blue, 0.]\n",
    "        table.append(row)        \n",
    "    \n",
    "        \n",
    "    elif np_img.shape[2] == 4: # se la profondità della terza dimenzione è 4, l'immagine è in formato RGBA\n",
    "        red, green, blue, alpha = np_img.mean(axis = (0, 1))\n",
    "        row = [image.split('.')[0], np_img.shape[0], np_img.shape[1], 0., red, green, blue, alpha]\n",
    "        table.append(row)\n",
    "        \n",
    "    else:\n",
    "        print('Il formato dell\\'immagine non è supportato!')\n",
    "    \n",
    "new_table = tabulate(table, headers = ['name', 'height', 'width', 'grayscale', 'R', 'G', 'B', 'ALPHA'], tablefmt = 'fancy_grid', numalign = 'right', floatfmt = '.2f') # creo la tabella utilizzando le caratteristiche dell'immagine come titoli\n",
    "\n",
    "print(new_table) \n",
    "\n",
    "os.chdir('..') # ripristino la directory precendente"
   ]
  },
  {
   "cell_type": "code",
   "execution_count": null,
   "metadata": {},
   "outputs": [],
   "source": []
  }
 ],
 "metadata": {
  "interpreter": {
   "hash": "71ea6ee63c5c5b3065f91a9df4d95af0df05b298596bde0128403e528b13ffe6"
  },
  "kernelspec": {
   "display_name": "Python 3.9.5 64-bit",
   "name": "python3"
  },
  "language_info": {
   "codemirror_mode": {
    "name": "ipython",
    "version": 3
   },
   "file_extension": ".py",
   "mimetype": "text/x-python",
   "name": "python",
   "nbconvert_exporter": "python",
   "pygments_lexer": "ipython3",
   "version": "3.9.5"
  }
 },
 "nbformat": 4,
 "nbformat_minor": 4
}
