{
 "cells": [
  {
   "cell_type": "markdown",
   "source": [
    "# STEP 1"
   ],
   "metadata": {}
  },
  {
   "cell_type": "code",
   "execution_count": 1,
   "source": [
    "# importo le librerie\r\n",
    "\r\n",
    "import shutil\r\n",
    "import os\r\n",
    "import csv\r\n",
    "import pandas as pd\r\n",
    "import numpy as np\r\n",
    "from tabulate import tabulate\r\n",
    "from PIL import Image"
   ],
   "outputs": [],
   "metadata": {}
  },
  {
   "cell_type": "code",
   "execution_count": 2,
   "source": [
    "print(os.getcwd())\r\n",
    "\"\"\"\r\n",
    "a che serve questa cella?\r\n",
    "\r\n",
    "per essere il più generico possibile, puoi:\r\n",
    "- trovare il percorso della cartella corrente (os.getcwd)\r\n",
    "- da lì, riferirti a (o spostarti in: os.path.chdir) quella di lavoro, files/\r\n",
    "\"\"\""
   ],
   "outputs": [
    {
     "output_type": "stream",
     "name": "stdout",
     "text": [
      "c:\\Users\\Edoardo\\machine learning\\progetti start2impact\\file organizer\n"
     ]
    },
    {
     "output_type": "execute_result",
     "data": {
      "text/plain": [
       "'\\na che serve questa cella?\\n\\nper essere il più generico possibile, puoi:\\n- trovare il percorso della cartella corrente (os.getcwd)\\n- da lì, riferirti a (o spostarti in: os.path.chdir) quella di lavoro, files/\\n'"
      ]
     },
     "metadata": {},
     "execution_count": 2
    }
   ],
   "metadata": {}
  },
  {
   "cell_type": "code",
   "execution_count": 3,
   "source": [
    "os.chdir('files') # sposto la directory di lavoro in files\r\n",
    "    \r\n",
    "\"\"\"\r\n",
    "attenzione alla gestione del file di recap:\r\n",
    "\r\n",
    "il tuo codice lo riscrive (da capo, con l'header) ogni volta che viene lanciato lo script;\r\n",
    "dovresti pensare a una logica che\r\n",
    "- se il file di recap NON ESISTE, viene creato (con l'header, che è sempre la prima riga)\r\n",
    "e viene riempito con le info dei file spostati\r\n",
    "- se ESISTE, viene solo riempito (AGGIORNANDO la versione già esistente)\r\n",
    "\r\n",
    "pensa inoltre a quali di queste operazioni conviene mettere nel ciclo principale (e quindi\r\n",
    "eseguire ogni volta che viene spostato un file) e cosa puoi esternalizzare (e\r\n",
    "quindi eseguire una volta sola)\r\n",
    "per evitare (*) di aprire e chiudere il file di recap ad ogni iterazione del ciclo sui file\r\n",
    "da spostare, come hai fatto qui sotto, puoi:\r\n",
    "- aprirlo prima e chiuderlo alla fine\r\n",
    "- mettere tutto il ciclo principale nel corpo di un \"with\"\r\n",
    "\r\n",
    "\"\"\"\r\n",
    "    \r\n",
    "files_list = [] # creo una lista in cui inserire le informazioni dei file\r\n",
    "img_formats = ['png', 'jpg', 'jpeg'] # creo lista per formato immagini\r\n",
    "txt_formats = ['txt', 'odt'] # creo lista per formato testi\r\n",
    "\r\n",
    "if not os.path.isdir('images'): # se non è presente, creo la cartella 'images'\r\n",
    "    os.mkdir('images')\r\n",
    "\r\n",
    "if not os.path.isdir('audio'): # se non è presente, creo cartella per file audio\r\n",
    "    os.mkdir('audio')\r\n",
    "    \r\n",
    "if not os.path.isdir('doc'): # se non è presente, creo cartella per file testuali\r\n",
    "    os.mkdir('doc')\r\n",
    "\r\n",
    "\r\n",
    "if not os.path.isfile('recap.csv'): # se il recap non è presente, lo creo\r\n",
    "    \r\n",
    "    recap = open('recap.csv', mode = 'w')\r\n",
    "    writer = csv.writer(recap)\r\n",
    "    writer.writerow(['filename', 'type', 'size'])\r\n",
    "    \r\n",
    "else: # se il recap è già presente lo aggiorno\r\n",
    "    \r\n",
    "    recap = open('recap.csv', mode = 'a') \r\n",
    "    writer = csv.writer(recap)\r\n",
    "    \r\n",
    "for file in os.listdir(os.curdir): # itero sugli elementi della cartella files\r\n",
    "\r\n",
    "    if os.path.isfile(file): # seleziono solo i file\r\n",
    "\r\n",
    "        filepath = os.path.abspath(file) # assegno a filepath il percorso del file\r\n",
    "        size = os.path.getsize(filepath) # assegno a size la dimensione\r\n",
    "        filename, ext = file.split('.') # assegno a filename il nome e a ext il formato del file\r\n",
    "\r\n",
    "        \"\"\"\r\n",
    "        oltre a inserire queste info nel recap, dovresti stamparle a video\r\n",
    "        durante l'esecuzione dello script\r\n",
    "        \"\"\"\r\n",
    "\r\n",
    "        if ext == 'csv': # se il file è .csv (recap) riparto dall'inizio del ciclo \r\n",
    "            continue\r\n",
    "\r\n",
    "        elif ext in img_formats: # seleziono le immagini\r\n",
    "\r\n",
    "            shutil.move(filepath, 'images') # sposto l'immagine in images\r\n",
    "            file_type = 'image' # assegno a file_type il tipo del file\r\n",
    "\r\n",
    "        # ripeto il processo con i file audio e testuali\r\n",
    "\r\n",
    "        elif ext == 'mp3':\r\n",
    "            shutil.move(filepath, 'audio')\r\n",
    "            file_type = 'audio'\r\n",
    "\r\n",
    "        elif ext in txt_formats:\r\n",
    "\r\n",
    "            shutil.move(filepath, 'doc')\r\n",
    "            file_type = 'doc'\r\n",
    "            \r\n",
    "        # segnalo file non supportati\r\n",
    "\r\n",
    "        else:\r\n",
    "            print(f'I file di tipo {ext} non sono supportati!')\r\n",
    "\r\n",
    "        files_list.append(f'{filename}  size: {size}B  type: {file_type}') # inserisco le info del file in files_list\r\n",
    "\r\n",
    "        data = pd.read_csv('recap.csv')\r\n",
    "        \r\n",
    "        filenames = data.filename.tolist()\r\n",
    "        \r\n",
    "        # se è già presente nel recap un file con lo stesso nome, lo aggiungo solo se dimensione e formato sono diversi\r\n",
    "\r\n",
    "        if filename in filenames:\r\n",
    "            \r\n",
    "            if file_type != data.type[filenames.index(filename)] and f'{size}B' != data['size'][filenames.index(filename)]:\r\n",
    "                    \r\n",
    "                    writer.writerow([filename, file_type, f'{size}B'])\r\n",
    "            \r\n",
    "            else:\r\n",
    "                \r\n",
    "                pass\r\n",
    "                    \r\n",
    "        else: # se non è presente un file con quel nome, lo aggiungo al recap\r\n",
    "            \r\n",
    "            writer.writerow([filename, file_type, f'{size}B'])\r\n",
    "            \r\n",
    "recap.close() # chiudo il file di recap\r\n",
    "\r\n",
    "p = [print(file) for file in sorted(files_list)] # stampo la lista dei file in ordine alfabetico\r\n",
    "\r\n",
    "os.chdir('..') # ripristino la directory originale"
   ],
   "outputs": [],
   "metadata": {}
  },
  {
   "cell_type": "code",
   "execution_count": 5,
   "source": [
    "nd = pd.read_csv('.//files//recap.csv') # controllo il contenuto di recap\r\n",
    "print(nd)"
   ],
   "outputs": [
    {
     "output_type": "stream",
     "name": "stdout",
     "text": [
      "  filename   type      size\n",
      "0    song1  audio  1087849B\n"
     ]
    }
   ],
   "metadata": {}
  },
  {
   "cell_type": "code",
   "execution_count": null,
   "source": [
    "\"\"\"\r\n",
    "step 2\r\n",
    "\r\n",
    "bene\r\n",
    "- l'utilizzo di argparse\r\n",
    "- l'adattamento dello step 1 al caso \"singolo file\"\r\n",
    "- l'interazione con l'utente\r\n",
    "\r\n",
    "(vale tutto quello che ti ho detto per lo step 1)\r\n",
    "\r\n",
    "una funzione \"main\" (che contiene il corpo chiamante del codice)\r\n",
    "non è sbagliata, ma neanche necessaria;\r\n",
    "volendo, puoi lasciare \"procedurale\" questa parte del codice, cioè fuori\r\n",
    "dal corpo di una funzione\r\n",
    "\r\n",
    "hai capito a che serve il costrutto if __name__ == '__main__'?\r\n",
    "\r\n",
    "https://www.programmareinpython.it/video-corso-python-intermedio/03-if-name-main/\r\n",
    "https://www.freecodecamp.org/news/if-name-main-python-example/\r\n",
    "\"\"\""
   ],
   "outputs": [],
   "metadata": {}
  },
  {
   "cell_type": "markdown",
   "source": [
    "---"
   ],
   "metadata": {}
  },
  {
   "cell_type": "markdown",
   "source": [
    "# STEP 3"
   ],
   "metadata": {}
  },
  {
   "cell_type": "code",
   "execution_count": 33,
   "source": [
    "os.chdir('files') # sposto la directory per essere più agevolato\r\n",
    "\r\n",
    "table = []\r\n",
    "\r\n",
    "for image in os.listdir('images'): # itero sulle immagini nella cartella\r\n",
    "    \r\n",
    "    img = Image.open(os.path.join('images', image)) # apro l'immagine\r\n",
    "    np_img = np.array(img) # creo un array a partire dall'immagine\r\n",
    "    \r\n",
    "    if np_img.ndim == 2: # se l'array ha solo due dimensioni, l'immagine è in scala grigi\r\n",
    "        #creo una lista con le caratteristiche delle immagini\r\n",
    "        row = [image.split('.')[0], np_img.shape[0], np_img.shape[1], np_img.mean(), 0., 0., 0., 0.]\r\n",
    "        \"\"\"\r\n",
    "        puoi scrivere 0. oppure .0 oppure 0.0 invece che float(0)\r\n",
    "        \"\"\"\r\n",
    "        table.append(row) #inserisco la lista nella lista 'table'\r\n",
    "        #ripeto il processo per le immagini RGB e RGBA\r\n",
    "\r\n",
    "    elif np_img.shape[2] == 3: # se la profondità della terza dimensione è 3, l'immagine è RGB\r\n",
    "        red, green, blue = np_img.mean(axis = (0, 1))\r\n",
    "        row = [image.split('.')[0], np_img.shape[0], np_img.shape[1], 0., red, green, blue, 0.]\r\n",
    "        table.append(row)        \r\n",
    "    # \"\"\"\r\n",
    "    # non c'è bisogno di calcolare la media per ogni livello di colore; puoi usare (come?)\r\n",
    "    # l'argomento \"axis\" della funzione mean (che esiste per ogni funzione vettoriale\r\n",
    "    # di NumPy)\r\n",
    "    # \"\"\"\r\n",
    "        \r\n",
    "    elif np_img.shape[2] == 4: # se la profondità della terza dimenzione è 4, l'immagine è in formato RGBA\r\n",
    "        red, green, blue, alpha = np_img.mean(axis = (0, 1))\r\n",
    "        row = [image.split('.')[0], np_img.shape[0], np_img.shape[1], 0., red, green, blue, alpha]\r\n",
    "        table.append(row)\r\n",
    "        \r\n",
    "    # \"\"\"\r\n",
    "    # ...else? se non ci sono altri casi possibili, puoi chiudere con un else; se invece ci sono,\r\n",
    "    # meglio gestirli: chiediti sempre che succede se non vengono eseguiti né il corpo dell'if\r\n",
    "    # né quello degli elif; il codice che c'è dopo gira lo stesso?\r\n",
    "    # \"\"\"\r\n",
    "    else:\r\n",
    "        print('Il formato dell\\'immagine non è supportato!')\r\n",
    "    \r\n",
    "new_table = tabulate(table, headers = ['name', 'height', 'width', 'grayscale', 'R', 'G', 'B', 'ALPHA'], tablefmt = 'fancy_grid', numalign = 'right', floatfmt = '.2f') # creo la tabella utilizzando le caratteristiche dell'immagine come titoli\r\n",
    "\r\n",
    "print(new_table) \r\n",
    "\r\n",
    "os.chdir('..') # ripristino la directory precendente"
   ],
   "outputs": [
    {
     "output_type": "stream",
     "name": "stdout",
     "text": [
      "╒══════════╤══════════╤═════════╤═════════════╤════════╤════════╤═══════╤═════════╕\n",
      "│ name     │   height │   width │   grayscale │      R │      G │     B │   ALPHA │\n",
      "╞══════════╪══════════╪═════════╪═════════════╪════════╪════════╪═══════╪═════════╡\n",
      "│ bw       │      512 │     512 │       21.48 │   0.00 │   0.00 │  0.00 │    0.00 │\n",
      "├──────────┼──────────┼─────────┼─────────────┼────────┼────────┼───────┼─────────┤\n",
      "│ daffodil │      500 │     335 │        0.00 │ 109.25 │  85.56 │  4.97 │    0.00 │\n",
      "├──────────┼──────────┼─────────┼─────────────┼────────┼────────┼───────┼─────────┤\n",
      "│ eclipse  │      256 │     256 │        0.00 │ 109.05 │ 109.52 │ 39.85 │  133.59 │\n",
      "├──────────┼──────────┼─────────┼─────────────┼────────┼────────┼───────┼─────────┤\n",
      "│ trump    │      183 │     275 │        0.00 │  97.01 │  98.99 │ 90.92 │    0.00 │\n",
      "╘══════════╧══════════╧═════════╧═════════════╧════════╧════════╧═══════╧═════════╛\n"
     ]
    }
   ],
   "metadata": {}
  },
  {
   "cell_type": "code",
   "execution_count": null,
   "source": [],
   "outputs": [],
   "metadata": {}
  }
 ],
 "metadata": {
  "kernelspec": {
   "name": "python3",
   "display_name": "Python 3.8.8 64-bit ('base': conda)"
  },
  "language_info": {
   "codemirror_mode": {
    "name": "ipython",
    "version": 3
   },
   "file_extension": ".py",
   "mimetype": "text/x-python",
   "name": "python",
   "nbconvert_exporter": "python",
   "pygments_lexer": "ipython3",
   "version": "3.8.8"
  },
  "interpreter": {
   "hash": "a61dabfdef5df075dffd45914dfe77260b178ca8a5d1839a78e6bca3c5e6bcb7"
  }
 },
 "nbformat": 4,
 "nbformat_minor": 4
}